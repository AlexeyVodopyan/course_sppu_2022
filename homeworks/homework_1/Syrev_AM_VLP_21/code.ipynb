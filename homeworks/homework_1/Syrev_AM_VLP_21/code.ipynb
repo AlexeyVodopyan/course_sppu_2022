{
 "cells": [
  {
   "cell_type": "markdown",
   "id": "460f895f",
   "metadata": {},
   "source": [
    "import json\n",
    "import numpy as np\n",
    "import matplotlib.pyplot as plt\n",
    "import math as mt\n",
    "from scipy.integrate import quad\n",
    "from scipy.interpolate import interp1d"
   ]
  },
  {
   "cell_type": "code",
   "execution_count": 2,
   "id": "9744fde7",
   "metadata": {},
   "outputs": [],
   "source": [
    "filename = '21.json'\n",
    "\n",
    "with open(filename) as f:\n",
    "    input_data = json.load(f)"
   ]
  },
  {
   "cell_type": "code",
   "execution_count": 3,
   "id": "3af80494",
   "metadata": {},
   "outputs": [
    {
     "data": {
      "text/plain": [
       "{'gamma_water': 1.0511348801388254,\n",
       " 'md_vdp': 2932.001314672111,\n",
       " 'd_tub': 0.7553834420073154,\n",
       " 'angle': 56.147757343822356,\n",
       " 'roughness': 0.0006238688585152281,\n",
       " 'p_wh': 147.69704496763774,\n",
       " 't_wh': 27.107279875142936,\n",
       " 'temp_grad': 2.0185509758792737}"
      ]
     },
     "execution_count": 3,
     "metadata": {},
     "output_type": "execute_result"
    }
   ],
   "source": [
    "input_data"
   ]
  },
  {
   "cell_type": "code",
   "execution_count": 4,
   "id": "02f96aab",
   "metadata": {},
   "outputs": [],
   "source": [
    "h = input_data['md_vdp'] # Глубина спуска НКТ, м\n",
    "d_tub = input_data['d_tub'] / 10 # Диаметр НКТ, м\n",
    "\n",
    "gamma_water = input_data['gamma_water'] # Относительная плотность воды, безразмерная\n",
    "\n",
    "P_wh = input_data['p_wh'] * 0.101325 # Буферное давление, МПа\n",
    "T_wh = input_data['t_wh'] + 273.15 # Температура жидкости у буферной линии, К\n",
    "\n",
    "angle = input_data['angle'] # Угол наклона скважины к горизонтали\n",
    "roughness = input_data['roughness'] # Шероховатость, м\n",
    "t_grad = input_data['temp_grad'] # Температурный градиент"
   ]
  },
  {
   "cell_type": "code",
   "execution_count": 5,
   "id": "9aff70a3",
   "metadata": {},
   "outputs": [],
   "source": [
    "# Функция расчета температуры от глубины\n",
    "h_md = np.linspace(0, h, 100) # h_md - глубина от 0 до глубины глубины спуска НКТ, м\n",
    "temp = T_wh + h_md*t_grad / 100 # Температура в каждом интервале h_md\n",
    "temp = interp1d(h_md, temp) "
   ]
  },
  {
   "cell_type": "code",
   "execution_count": 6,
   "id": "0ccb9c97",
   "metadata": {},
   "outputs": [],
   "source": [
    "def rho_w_kgm3(T_K, ws = 0):\n",
    "    \n",
    "    # Зависимость плотности от солености\n",
    "    rho_w_sc_kgm3 = 1000 * (1.0009 - 0.7114 * ws + 0.2605 * ws**2)**(-1)\n",
    "    \n",
    "    # Зависимость плотности от температуры\n",
    "    rho_w_kgm3 = rho_w_sc_kgm3 / (1 + (T_K - 273) / 10000 * (0.269 * (T_K - 273)**(0.637) - 0.8))\n",
    "    \n",
    "    return rho_w_kgm3"
   ]
  },
  {
   "cell_type": "code",
   "execution_count": 7,
   "id": "03e3e2af",
   "metadata": {},
   "outputs": [],
   "source": [
    "def salinity_gg(rho_kgm3):\n",
    "    ws = 1/rho_kgm3*(1.36545*rho_kgm3-(3838.77*rho_kgm3-2.009*rho_kgm3**2)**0.5)\n",
    "    # для плотности > 992 кг/м3\n",
    "    if ws>0 :\n",
    "        return ws\n",
    "    else:\n",
    "        return 0"
   ]
  },
  {
   "cell_type": "code",
   "execution_count": 8,
   "id": "86361d25",
   "metadata": {},
   "outputs": [],
   "source": [
    "def visc_w_cP(P_Mpa, T_K, ws = 0):\n",
    "    A = 109.574 - 0.8406 * 1000 * ws + 3.1331 * 1000 * ws * ws + 8.7221 * 1000 * ws * ws * ws\n",
    "    B = 1.1217 - 2.6396 * ws + 6.7946 * ws * ws + 54.7119 * ws * ws * ws - 155.586 * ws * ws * ws * ws\n",
    "    muw = A * (1.8 * T_K - 460) ** (-B) * (0.9994 + 0.0058 * P_Mpa + 0.6534 * (10) ** (-4) * P_Mpa * P_Mpa)\n",
    "    return muw"
   ]
  },
  {
   "cell_type": "code",
   "execution_count": 9,
   "id": "67a01b08",
   "metadata": {},
   "outputs": [],
   "source": [
    "def Re(q_m3day, d_m, mu_mPas = 0.2, rho_kgm3 = 1000):\n",
    "    # Расчет скорости потока [м/с]\n",
    "    v_ms = q_m3day / 86400 / 3.1415 * 4 / d_m ** 2\n",
    "    # Расчет числа Рейнольдса\n",
    "    Re = rho_kgm3 * v_ms * d_m / mu_mPas * 1000\n",
    "    return Re"
   ]
  },
  {
   "cell_type": "code",
   "execution_count": 10,
   "id": "31b7213a",
   "metadata": {},
   "outputs": [],
   "source": [
    "def friction_Jain(q_m3day, d_m = 0.089, mu_mPas = 0.2, rho_kgm3 = 1000, roughness=0.000018):\n",
    "    Re_val = Re(q_m3day,d_m,mu_mPas,rho_kgm3)\n",
    "    \n",
    "    # Ламинарный поток\n",
    "    if Re_val < 3000:\n",
    "        f = 64 / Re_val\n",
    "        return f\n",
    "    # Турбулентный поток\n",
    "    else:\n",
    "        f = 1 / (1.14 - 2 * np.log10(roughness / d_m + 21.25 / (Re_val**0.9)))**2\n",
    "        return f"
   ]
  },
  {
   "cell_type": "code",
   "execution_count": 11,
   "id": "0fc7c4cc",
   "metadata": {},
   "outputs": [],
   "source": [
    "def friction_Churchill(q_m3day, d_m = 0.089, mu_mPas = 0.2, rho_kgm3 = 1000, roughness=0.000018):\n",
    "    Re_val = Re(q_m3day,d_m,mu_mPas,rho_kgm3)\n",
    "    A = (-2.457 * np.log((7 / Re_val)**(0.9) + 0.27*(roughness / d_m)))**16\n",
    "    B = (37530 / Re_val)**16\n",
    "    f = 8 * ((8 / Re_val)**12 + 1 / (A + B)**1.5)**(1 / 12)\n",
    "    return f"
   ]
  },
  {
   "cell_type": "code",
   "execution_count": 12,
   "id": "c87fa57f",
   "metadata": {},
   "outputs": [],
   "source": [
    "# Функция расчета градиента давления [МПа/м]\n",
    "def dp_dh(P_Mpa, h_m, q_m3day, d_m, angle, roughness, gamm_water):\n",
    "    \n",
    "    # Соленость воды, плотность которой дана по условию.Так как дана относительная, то умножаем на 1000\n",
    "    sal_w = salinity_gg(gamm_water*1000)  \n",
    "    T_K = temp(h_m) # Температура на каждой глубине\n",
    "    rho = rho_w_kgm3(T_K, sal_w) # Плотность\n",
    "    mu = visc_w_cP(P_Mpa, T_K) # Вязкость\n",
    "    f = friction_Churchill(q_m3day, d_m, mu, rho, roughness) # Коэффициент трения\n",
    "    \n",
    "    dp_dl_grav = rho * 9.81 * mt.sin(angle * mt.pi / 180) # Потери давления гравитационные\n",
    "    dp_dl_fric = f * rho * (q_m3day / 86400)** 2 / (d_m ** 5) # Потери давления из-за трения\n",
    "    dp_dl = dp_dl_grav - (8 / mt.pi**2) * dp_dl_fric # Сумарные потери давления\n",
    "    return dp_dl/1000000"
   ]
  },
  {
   "cell_type": "code",
   "execution_count": 13,
   "id": "a93bff34",
   "metadata": {},
   "outputs": [],
   "source": [
    "# Зависимость забойного давления от расхода нагнетальной скважины (от 1 до 400 м3/сут)\n",
    "q_inj_w = [1] + [i for i in range(0,410,10)][1:] # генерируем расход наг. скв. от 1 до 400\n",
    "h_md = np.linspace(1, h, 60) \n",
    "delta_h = h_md[1] - h_md[0]\n",
    "P_wf = []\n",
    "for q in q_inj_w:\n",
    "    P = [P_wh]\n",
    "    for h_h in h_md:\n",
    "        dp_dl = dp_dh(P[-1], h_h, q, d_tub, angle, roughness, gamma_water)\n",
    "        delta_p = dp_dl * delta_h\n",
    "        P.append(P[-1] + delta_p)\n",
    "    P_wf.append(P[-1])"
   ]
  },
  {
   "cell_type": "code",
   "execution_count": 14,
   "id": "daaeee0d",
   "metadata": {},
   "outputs": [],
   "source": [
    "p_in_atm = list(np.array(P_wf)*9.8692327) # Перевод забойного давления в атмосферы"
   ]
  },
  {
   "cell_type": "code",
   "execution_count": 15,
   "id": "506624a1",
   "metadata": {},
   "outputs": [
    {
     "data": {
      "text/plain": [
       "[<matplotlib.lines.Line2D at 0x1d0198941f0>]"
      ]
     },
     "execution_count": 15,
     "metadata": {},
     "output_type": "execute_result"
    },
    {
     "data": {
      "image/png": "[encoded data removed]",
      "text/plain": [
       "<Figure size 432x288 with 1 Axes>"
      ]
     },
     "metadata": {
      "needs_background": "light"
     },
     "output_type": "display_data"
    }
   ],
   "source": [
    "# График заивимости забойного давления от расхода воды нагнетательной скважины \n",
    "plt.title(\"VLP\")\n",
    "plt.xlabel('Дебит нагнетаемой воды, м3/сут')\n",
    "plt.ylabel('Забойное давление, атм')\n",
    "plt.plot( q_inj_w, p_in_atm)"
   ]
  },
  {
   "cell_type": "code",
   "execution_count": 16,
   "id": "e63f9dbb",
   "metadata": {},
   "outputs": [],
   "source": [
    "dict_to_json = {\"q\": q_inj_w, \"p_wf\": p_in_atm} # q_liq - Расход, м3/сут; p_wf - Забойное давление, атм."
   ]
  },
  {
   "cell_type": "code",
   "execution_count": 17,
   "id": "7f1c7a21",
   "metadata": {},
   "outputs": [],
   "source": [
    "filename = 'output.json'\n",
    "with open(filename, 'w') as f:\n",
    "    json.dump(dict_to_json, f)"
   ]
  }
 ],
 "metadata": {
  "kernelspec": {
   "display_name": "Python 3",
   "language": "python",
   "name": "python3"
  },
  "language_info": {
   "codemirror_mode": {
    "name": "ipython",
    "version": 3
   },
   "file_extension": ".py",
   "mimetype": "text/x-python",
   "name": "python",
   "nbconvert_exporter": "python",
   "pygments_lexer": "ipython3",
   "version": "3.8.8"
  }
 },
 "nbformat": 4,
 "nbformat_minor": 5
}
