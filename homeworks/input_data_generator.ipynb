{
 "cells": [
  {
   "cell_type": "code",
   "execution_count": 17,
   "id": "621489a8",
   "metadata": {},
   "outputs": [],
   "source": [
    "import json\n",
    "import numpy as np"
   ]
  },
  {
   "cell_type": "markdown",
   "id": "ccdbadfa",
   "metadata": {},
   "source": [
    "### Домашнее задание № 1"
   ]
  },
  {
   "cell_type": "code",
   "execution_count": 2,
   "id": "7881ec02",
   "metadata": {},
   "outputs": [],
   "source": [
    "N = 30  "
   ]
  },
  {
   "cell_type": "code",
   "execution_count": 3,
   "id": "0059cc11",
   "metadata": {},
   "outputs": [],
   "source": [
    "for i in range(1, N + 1):\n",
    "    input_json = {\n",
    "    \"gamma_water\": np.random.uniform(0.96, 1.08),\n",
    "    \"md_vdp\": np.random.uniform(1800, 3200),\n",
    "    \"d_tub\": np.random.uniform(0.062, 0.094),\n",
    "    \"angle\": np.random.uniform(40, 90),\n",
    "    \"roughness\": np.random.uniform(0.0001, 0.001),\n",
    "    \"p_wh\": np.random.uniform(100, 170),\n",
    "    \"t_wh\": np.random.uniform(20, 35),\n",
    "    \"temp_grad\": np.random.uniform(2, 3),\n",
    "    }\n",
    "    with open(f\"homework_1/input_data/{i}.json\", \"w\") as f:\n",
    "        json.dump(input_json, f)"
   ]
  },
  {
   "cell_type": "markdown",
   "id": "bbe4f5d4",
   "metadata": {},
   "source": [
    "### Домашнее задание № 2"
   ]
  },
  {
   "cell_type": "code",
   "execution_count": 18,
   "id": "51b238f6",
   "metadata": {},
   "outputs": [],
   "source": [
    "N = 30"
   ]
  },
  {
   "cell_type": "code",
   "execution_count": 21,
   "id": "0228de75",
   "metadata": {},
   "outputs": [],
   "source": [
    "for i in range(1, N + 1):\n",
    "    \n",
    "    \n",
    "    d_tub = np.random.uniform(0.062, 0.094)\n",
    "    d_cas = np.random.uniform(d_tub + 0.02, 0.15)\n",
    "    \n",
    "    incl_md = [0, 1400, np.random.uniform(1800, 2000)]\n",
    "    incl_tvd = [0, 1300, np.random.uniform(1500, incl_md[-1])]\n",
    "    \n",
    "    for _ in range(2, 7):\n",
    "        incl_md.append(np.random.uniform(incl_md[-1], incl_md[-1] + 100))\n",
    "        incl_tvd.append(np.random.uniform(incl_tvd[-1], incl_tvd[-1] + (incl_md[-1] - incl_md[-2])))\n",
    "    \n",
    "    md_vdp = incl_md[-1]\n",
    "    p_res = md_vdp * 9810 / 101325\n",
    "    pi = np.random.uniform(0.5, 1.5)\n",
    "    temp_grad = np.random.uniform(2, 3)\n",
    "    t_res = incl_tvd[-1] * temp_grad / 100 + 30\n",
    "    \n",
    "    input_json_1 = {\n",
    "        \"fluid\": {\n",
    "            \"gamma_oil\": np.random.uniform(0.8, 0.9),\n",
    "            \"gamma_water\": np.random.uniform(1, 1.08),\n",
    "            \"gamma_gas\": np.random.uniform(0.6, 0.8),\n",
    "            \"wct\": np.random.uniform(0, 0.4),\n",
    "            \"rp\": np.random.uniform(100, 300)\n",
    "        },\n",
    "        \"pipe\": {\n",
    "            \"tubing\": {\n",
    "                \"d\": d_tub,\n",
    "                \"md\": 1400,\n",
    "                \"roughness\": np.random.uniform(0.0001, 0.001)\n",
    "            },\n",
    "            \"casing\": {\n",
    "                \"d\": d_cas,\n",
    "                \"roughness\": np.random.uniform(0.0001, 0.001)\n",
    "            }\n",
    "        },\n",
    "        \"inclinometry\": {\n",
    "            \"md\": incl_md,\n",
    "            \"tvd\": incl_tvd\n",
    "        },\n",
    "        \"temperature\": {\n",
    "            \"t_res\": t_res,\n",
    "            \"temp_grad\": np.random.uniform(2, 3),\n",
    "        },\n",
    "        \"reservoir\": {\n",
    "            \"md_vdp\": md_vdp,\n",
    "            \"p_res\": p_res,\n",
    "            \"pi\": pi\n",
    "        },\n",
    "        \"regime\": {\n",
    "            \"p_wh\": np.random.uniform(15, 30),\n",
    "        }\n",
    "    }\n",
    "    \n",
    "    input_json_2 = {\n",
    "            \"md_valve\": np.random.uniform(1000, 1400),\n",
    "    }\n",
    "    \n",
    "    with open(f\"homework_2/input_data/{i}-1.json\", \"w\") as f:\n",
    "        json.dump(input_json_1, f)\n",
    "        \n",
    "    with open(f\"homework_2/input_data/{i}-2.json\", \"w\") as f:\n",
    "        json.dump(input_json_2, f)"
   ]
  },
  {
   "cell_type": "code",
   "execution_count": null,
   "id": "680e6b56",
   "metadata": {},
   "outputs": [],
   "source": []
  }
 ],
 "metadata": {
  "kernelspec": {
   "display_name": "Python 3 (ipykernel)",
   "language": "python",
   "name": "python3"
  },
  "language_info": {
   "codemirror_mode": {
    "name": "ipython",
    "version": 3
   },
   "file_extension": ".py",
   "mimetype": "text/x-python",
   "name": "python",
   "nbconvert_exporter": "python",
   "pygments_lexer": "ipython3",
   "version": "3.9.7"
  }
 },
 "nbformat": 4,
 "nbformat_minor": 5
}
