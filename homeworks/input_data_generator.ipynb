{
 "cells": [
  {
   "cell_type": "code",
   "execution_count": 1,
   "id": "621489a8",
   "metadata": {},
   "outputs": [],
   "source": [
    "import json\n",
    "import numpy as np"
   ]
  },
  {
   "cell_type": "markdown",
   "id": "ccdbadfa",
   "metadata": {},
   "source": [
    "### Домашнее задание № 1"
   ]
  },
  {
   "cell_type": "code",
   "execution_count": 2,
   "id": "7881ec02",
   "metadata": {},
   "outputs": [],
   "source": [
    "N = 30  "
   ]
  },
  {
   "cell_type": "code",
   "execution_count": 3,
   "id": "0059cc11",
   "metadata": {},
   "outputs": [],
   "source": [
    "for i in range(1, N + 1):\n",
    "    input_json = {\n",
    "    \"gamma_water\": np.random.uniform(0.96, 1.08),\n",
    "    \"md_vdp\": np.random.uniform(1800, 3200),\n",
    "    \"d_tub\": np.random.uniform(0.62, 0.94),\n",
    "    \"angle\": np.random.uniform(40, 90),\n",
    "    \"roughness\": np.random.uniform(0.0001, 0.001),\n",
    "    \"p_wh\": np.random.uniform(100, 170),\n",
    "    \"t_wh\": np.random.uniform(20, 35),\n",
    "    \"temp_grad\": np.random.uniform(2, 3),\n",
    "    }\n",
    "    with open(f\"homework_1/input_data/{i}.json\", \"w\") as f:\n",
    "        json.dump(input_json, f)"
   ]
  },
  {
   "cell_type": "code",
   "execution_count": null,
   "id": "b420a4d0",
   "metadata": {},
   "outputs": [],
   "source": []
  }
 ],
 "metadata": {
  "kernelspec": {
   "display_name": "Python 3 (ipykernel)",
   "language": "python",
   "name": "python3"
  },
  "language_info": {
   "codemirror_mode": {
    "name": "ipython",
    "version": 3
   },
   "file_extension": ".py",
   "mimetype": "text/x-python",
   "name": "python",
   "nbconvert_exporter": "python",
   "pygments_lexer": "ipython3",
   "version": "3.9.7"
  }
 },
 "nbformat": 4,
 "nbformat_minor": 5
}
