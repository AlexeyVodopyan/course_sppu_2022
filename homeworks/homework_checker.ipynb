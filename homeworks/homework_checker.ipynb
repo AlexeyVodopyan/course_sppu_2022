{
 "cells": [
  {
   "cell_type": "markdown",
   "id": "cb544981",
   "metadata": {},
   "source": [
    "### Проверка ДЗ 1"
   ]
  },
  {
   "cell_type": "code",
   "execution_count": 90,
   "id": "8cc3b56b",
   "metadata": {},
   "outputs": [],
   "source": [
    "import json"
   ]
  },
  {
   "cell_type": "code",
   "execution_count": 91,
   "id": "5c30c7f7",
   "metadata": {},
   "outputs": [],
   "source": [
    "# Указываем номер варианта проверяемого\n",
    "variant = 16\n",
    "\n",
    "# Считываем исходные данные\n",
    "with open(f\"homework_1/input_data/{variant}.json\") as f:\n",
    "    input_data = json.load(f)"
   ]
  },
  {
   "cell_type": "code",
   "execution_count": 92,
   "id": "bb915753",
   "metadata": {},
   "outputs": [],
   "source": [
    "# Предварительно лучше перейти в ветку которая на PR, чтобы файл с ответом уже был в папке и его не скачивать отдельно\n",
    "# Как это сделать: https://codex.so/git-checkout-on-pull-request-from-fork\n",
    "\n",
    "# Путь к файлу с ответом ученика\n",
    "output_path = \"homework_1/muravtsev/output.json\"\n",
    "\n",
    "# Считываем выходные данные\n",
    "with open(output_path) as f:\n",
    "    output_data = json.load(f)"
   ]
  },
  {
   "cell_type": "code",
   "execution_count": 93,
   "id": "707f5545",
   "metadata": {},
   "outputs": [
    {
     "data": {
      "text/plain": [
       "{'gamma_water': 1.0531826688400516,\n",
       " 'md_vdp': 2795.4461926851586,\n",
       " 'd_tub': 0.6292958170855484,\n",
       " 'angle': 48.26556535739659,\n",
       " 'roughness': 0.00023828101188969189,\n",
       " 'p_wh': 151.89057740712013,\n",
       " 't_wh': 26.056301710698456,\n",
       " 'temp_grad': 2.211303276181458}"
      ]
     },
     "execution_count": 93,
     "metadata": {},
     "output_type": "execute_result"
    }
   ],
   "source": [
    "input_data"
   ]
  },
  {
   "cell_type": "code",
   "execution_count": 94,
   "id": "2778af67",
   "metadata": {},
   "outputs": [],
   "source": [
    "from math import sin, pi"
   ]
  },
  {
   "cell_type": "code",
   "execution_count": 95,
   "id": "77525e88",
   "metadata": {},
   "outputs": [
    {
     "data": {
      "text/plain": [
       "2086.0688620165038"
      ]
     },
     "execution_count": 95,
     "metadata": {},
     "output_type": "execute_result"
    }
   ],
   "source": [
    "input_data[\"md_vdp\"]*sin(input_data[\"angle\"]*pi/180)"
   ]
  },
  {
   "cell_type": "code",
   "execution_count": 96,
   "id": "c7f6ab67",
   "metadata": {},
   "outputs": [],
   "source": [
    "# Получаем эталонный ответ с помощью uniflocpy\n",
    "import pandas as pd\n",
    "import unifloc.tools.units_converter as uc\n",
    "import unifloc.common.trajectory as traj\n",
    "import unifloc.common.ambient_temperature_distribution as amb\n",
    "import unifloc.pipe.pipeline as pipel\n",
    "import unifloc.pvt.fluid_flow as fl\n",
    "\n",
    "# Инициализация исходных данных класса Pipeline\n",
    "trajectory = traj.Trajectory(pd.DataFrame(columns=[\"MD\", \"TVD\"],\n",
    "                                     data=[[0, 0],\n",
    "                                           [input_data[\"md_vdp\"], input_data[\"md_vdp\"]*sin(input_data[\"angle\"]*pi/180)]]))\n",
    "\n",
    "ambient_temperature_data = {\"MD\": [0, input_data[\"md_vdp\"]], \"T\": [input_data[\"t_wh\"]+273.15, \n",
    "                                                                   input_data[\"t_wh\"]+273.15 + 2.71 / 100 * input_data[\"md_vdp\"]*sin(input_data[\"angle\"]*pi/180)]}\n",
    "\n",
    "amb_temp = amb.AmbientTemperatureDistribution(ambient_temperature_data)\n",
    "\n",
    "fluid_data = {\n",
    "    \"q_fluid\": uc.convert_rate(100, \"m3/day\", \"m3/s\"),\n",
    "    \"pvt_model_data\": {\n",
    "        \"black_oil\": {\n",
    "            \"gamma_gas\": 0.7, \"gamma_wat\": input_data[\"gamma_water\"], \"gamma_oil\": 0.8,\n",
    "            \"wct\": 1, \"phase_ratio\": {\"type\": \"GOR\", \"value\": 401}}}}\n",
    "\n",
    "fluid = fl.FluidFlow(**fluid_data)\n",
    "\n",
    "d = input_data[\"d_tub\"] / 10\n",
    "top_depth = 0\n",
    "bottom_depth = input_data[\"md_vdp\"]\n",
    "roughness = input_data[\"roughness\"]\n",
    "p_wh = input_data[\"p_wh\"] * 101325  # Па\n",
    "flow_direction = -1\n",
    "# Инициализация объекта pvt-модели\n",
    "pipe = pipel.Pipeline(top_depth, bottom_depth, d, roughness,\n",
    "                      trajectory, fluid, amb_temp)\n",
    "\n",
    "# Расчёт VLP\n",
    "q_liq_array = output_data[\"q_liq\"]\n",
    "p_wf_array = []\n",
    "for q_liq in q_liq_array:\n",
    "    p_wf, *_ = pipe.calc_pt(\"top\", p_wh, flow_direction, q_liq/86400, 1)\n",
    "    p_wf_array.append(p_wf/101325)"
   ]
  },
  {
   "cell_type": "code",
   "execution_count": 98,
   "id": "9e2838a2",
   "metadata": {},
   "outputs": [],
   "source": [
    "# Сравним 2 массива\n",
    "import numpy.testing\n",
    "\n",
    "# Допустимый процент ошибки\n",
    "rtol = 0.02\n",
    "try:\n",
    "    numpy.testing.assert_allclose(p_wf_array, output_data[\"p_wf\"], rtol=rtol)\n",
    "except AssertionError as e:\n",
    "    \n",
    "    print(\"Ответ студента неверный\")\n",
    "    \n",
    "    print(e)"
   ]
  },
  {
   "cell_type": "markdown",
   "id": "2ad04472",
   "metadata": {},
   "source": [
    "### Проверка ДЗ 2"
   ]
  },
  {
   "cell_type": "code",
   "execution_count": 1,
   "id": "ad02b374",
   "metadata": {},
   "outputs": [],
   "source": [
    "import json"
   ]
  },
  {
   "cell_type": "code",
   "execution_count": 4,
   "id": "bf150556",
   "metadata": {},
   "outputs": [],
   "source": [
    "# Указываем номер варианта проверяемого\n",
    "variant = 6\n",
    "\n",
    "# Считываем исходные данные\n",
    "with open(f\"homework_2/input_data/{variant}-1.json\") as f:\n",
    "    input_data_1 = json.load(f)\n",
    "    \n",
    "with open(f\"homework_2/input_data/{variant}-2.json\") as f:\n",
    "    input_data_2 = json.load(f)"
   ]
  },
  {
   "cell_type": "code",
   "execution_count": 5,
   "id": "6e869e81",
   "metadata": {},
   "outputs": [],
   "source": [
    "# Предварительно лучше перейти в ветку которая на PR, чтобы файл с ответом уже был в папке и его не скачивать отдельно\n",
    "# Как это сделать: https://codex.so/git-checkout-on-pull-request-from-fork\n",
    "\n",
    "# Путь к файлу с ответом ученика\n",
    "output_path = \"homework_2/gudilov/output.json\"\n",
    "\n",
    "# Считываем выходные данные\n",
    "with open(output_path) as f:\n",
    "    output_data = json.load(f)"
   ]
  },
  {
   "cell_type": "code",
   "execution_count": 10,
   "id": "1fdaa3a3",
   "metadata": {},
   "outputs": [
    {
     "data": {
      "text/plain": [
       "{'fluid': {'gamma_oil': 0.851724456241123,\n",
       "  'gamma_water': 1.0502998368310799,\n",
       "  'gamma_gas': 0.7304998513017404,\n",
       "  'wct': 0.2720726926929928,\n",
       "  'rp': 294.6164789804204},\n",
       " 'pipe': {'tubing': {'d': 0.08921736121695023,\n",
       "   'md': 1400,\n",
       "   'roughness': 0.00045733210160047854},\n",
       "  'casing': {'d': 0.11818220557958338, 'roughness': 0.0006044111356378995}},\n",
       " 'inclinometry': {'md': [0,\n",
       "   1400,\n",
       "   1850.0098193139966,\n",
       "   1942.7396915429672,\n",
       "   2002.404007300809,\n",
       "   2055.9257655594815,\n",
       "   2062.591682402726,\n",
       "   2126.704108334986],\n",
       "  'tvd': [0,\n",
       "   1300,\n",
       "   1576.9299136601012,\n",
       "   1635.5589137764491,\n",
       "   1648.3012952980816,\n",
       "   1686.4388932333995,\n",
       "   1689.4105356982857,\n",
       "   1728.5095221986921]},\n",
       " 'temperature': {'t_res': 65.03439498049232, 'temp_grad': 2.720873261686019},\n",
       " 'reservoir': {'md_vdp': 2126.704108334986,\n",
       "  'p_res': 205.90147843835393,\n",
       "  'pi': 0.5870919774794668},\n",
       " 'regime': {'p_wh': 27.099308518811014}}"
      ]
     },
     "execution_count": 10,
     "metadata": {},
     "output_type": "execute_result"
    }
   ],
   "source": [
    "input_data_1"
   ]
  },
  {
   "cell_type": "code",
   "execution_count": 7,
   "id": "9b5df1bc",
   "metadata": {},
   "outputs": [
    {
     "data": {
      "text/plain": [
       "{'md_valve': 1148.3144749454036}"
      ]
     },
     "execution_count": 7,
     "metadata": {},
     "output_type": "execute_result"
    }
   ],
   "source": [
    "input_data_2"
   ]
  },
  {
   "cell_type": "code",
   "execution_count": 8,
   "id": "2bd2c65b",
   "metadata": {},
   "outputs": [],
   "source": [
    "from unifloc.well.gaslift_well import GasLiftWell"
   ]
  },
  {
   "cell_type": "code",
   "execution_count": 9,
   "id": "88cb4bea",
   "metadata": {},
   "outputs": [
    {
     "data": {
      "text/plain": [
       "unifloc.well.gaslift_well.GasLiftWell"
      ]
     },
     "execution_count": 9,
     "metadata": {},
     "output_type": "execute_result"
    }
   ],
   "source": [
    "GasLiftWell(a)"
   ]
  },
  {
   "cell_type": "markdown",
   "id": "b6e8b769",
   "metadata": {},
   "source": [
    "#### Задание 1"
   ]
  },
  {
   "cell_type": "code",
   "execution_count": 82,
   "id": "470862e8",
   "metadata": {},
   "outputs": [],
   "source": [
    "# Получаем эталонный ответ с помощью uniflocpy\n",
    "import pandas as pd\n",
    "import numpy as np\n",
    "import unifloc.tools.units_converter as uc\n",
    "from unifloc.well.gaslift_well import GasLiftWell\n",
    "\n",
    "df = {\"MD\": input_data_1[\"inclinometry\"][\"md\"],\n",
    "      \"TVD\": input_data_1[\"inclinometry\"][\"tvd\"]}\n",
    "\n",
    "fluid_data = {\"q_fluid\": uc.convert_rate(100, \"m3/day\", \"m3/s\"),\n",
    "              \"pvt_model_data\": \n",
    "              {\"black_oil\": \n",
    "               {\"gamma_gas\": input_data_1[\"fluid\"][\"gamma_gas\"], \n",
    "                \"gamma_wat\": input_data_1[\"fluid\"][\"gamma_water\"], \n",
    "                \"gamma_oil\": input_data_1[\"fluid\"][\"gamma_oil\"],\n",
    "                \"wct\": input_data_1[\"fluid\"][\"wct\"], \n",
    "                \"phase_ratio\": {\"type\": \"GOR\", \"value\": input_data_1[\"fluid\"][\"rp\"]}}}}\n",
    "\n",
    "pipe_data = {\"casing\": {\"bottom_depth\": input_data_1[\"reservoir\"][\"md_vdp\"],\n",
    "                        \"d\": input_data_1[\"pipe\"][\"casing\"][\"d\"],\n",
    "                        \"roughness\": input_data_1[\"pipe\"][\"casing\"][\"roughness\"]},\n",
    "             \"tubing\": {\"bottom_depth\": input_data_1[\"pipe\"][\"tubing\"][\"md\"],\n",
    "                        \"d\": input_data_1[\"pipe\"][\"tubing\"][\"d\"],\n",
    "                        \"roughness\": input_data_1[\"pipe\"][\"tubing\"][\"roughness\"]}}\n",
    "well_trajectory_data = {\"inclinometry\": df}\n",
    "equipment_data = None\n",
    "ambient_temperature_data = {\"MD\": [0, input_data_1[\"reservoir\"][\"md_vdp\"]],\n",
    "                            \"T\": [input_data_1[\"temperature\"][\"t_res\"] + 273.15 - input_data_1[\"temperature\"][\"temp_grad\"]/ 100 * input_data_1[\"inclinometry\"][\"tvd\"][-1],\n",
    "                                  input_data_1[\"temperature\"][\"t_res\"] + 273.15]}\n",
    "\n",
    "# Инициализация объекта скважины\n",
    "well = GasLiftWell(fluid_data, pipe_data, well_trajectory_data,\n",
    "                   ambient_temperature_data, equipment_data)\n",
    "\n",
    "def _min_func(q_liq, p_res, pi, p_wh, wct):\n",
    "    # Расчёт забойного от пластового\n",
    "    p_wf_res = p_res - q_liq / pi\n",
    "    \n",
    "    # Расчет забойного от буферного\n",
    "    p_wf_well = well.calc_pwf_pfl(p_wh * 101325,\n",
    "                             q_liq / 86400,\n",
    "                             wct)\n",
    "    return abs(p_wf_res - p_wf_well / 101325)\n",
    "\n",
    "from scipy.optimize import minimize_scalar\n",
    "\n",
    "q_liq = minimize_scalar(_min_func,\n",
    "                        bounds=(1, input_data_1[\"reservoir\"][\"p_res\"] * input_data_1[\"reservoir\"][\"pi\"]),\n",
    "                        args=(\n",
    "                            input_data_1[\"reservoir\"][\"p_res\"],\n",
    "                            input_data_1[\"reservoir\"][\"pi\"],\n",
    "                            input_data_1[\"regime\"][\"p_wh\"],\n",
    "                            input_data_1[\"fluid\"][\"wct\"]\n",
    "                                                         ),\n",
    "                       method=\"bounded\")\n",
    "p_wf = input_data_1[\"reservoir\"][\"p_res\"] - q_liq.x / input_data_1[\"reservoir\"][\"pi\"]"
   ]
  },
  {
   "cell_type": "code",
   "execution_count": 72,
   "id": "b249746f",
   "metadata": {},
   "outputs": [
    {
     "data": {
      "text/plain": [
       "     fun: 1.693173430794559e-06\n",
       " message: 'Solution found.'\n",
       "    nfev: 25\n",
       "  status: 0\n",
       " success: True\n",
       "       x: 28.361220058532496"
      ]
     },
     "execution_count": 72,
     "metadata": {},
     "output_type": "execute_result"
    }
   ],
   "source": [
    "q_liq"
   ]
  },
  {
   "cell_type": "code",
   "execution_count": 74,
   "id": "781710d5",
   "metadata": {},
   "outputs": [
    {
     "data": {
      "text/plain": [
       "157.5935111241107"
      ]
     },
     "execution_count": 74,
     "metadata": {},
     "output_type": "execute_result"
    }
   ],
   "source": [
    "p_wf"
   ]
  },
  {
   "cell_type": "code",
   "execution_count": 81,
   "id": "8041064a",
   "metadata": {},
   "outputs": [],
   "source": [
    "# Сравним ответ на 1 задание\n",
    "import pytest\n",
    "\n",
    "# Допустимый процент ошибки\n",
    "rtol = 0.02\n",
    "\n",
    "try:\n",
    "    assert p_wf == pytest.approx(output_data[\"t1\"][\"pwf\"], rtol)\n",
    "except AssertionError as e:\n",
    "    print(\"Ответ студента неверный\")\n",
    "    print(\"Unifloc: \", p_wf)\n",
    "    print(\"Студент: \", output_data[\"t1\"][\"pwf\"])"
   ]
  },
  {
   "cell_type": "markdown",
   "id": "b6d8a4be",
   "metadata": {},
   "source": [
    "#### Задание 2"
   ]
  },
  {
   "cell_type": "code",
   "execution_count": 91,
   "id": "d548d0a3",
   "metadata": {},
   "outputs": [],
   "source": [
    "# Получаем эталонный ответ с помощью uniflocpy\n",
    "import pandas as pd\n",
    "import numpy as np\n",
    "import unifloc.tools.units_converter as uc\n",
    "from unifloc.well.gaslift_well import GasLiftWell\n",
    "\n",
    "df = {\"MD\": input_data_1[\"inclinometry\"][\"md\"],\n",
    "      \"TVD\": input_data_1[\"inclinometry\"][\"tvd\"]}\n",
    "\n",
    "fluid_data = {\"q_fluid\": uc.convert_rate(100, \"m3/day\", \"m3/s\"),\n",
    "              \"pvt_model_data\": \n",
    "              {\"black_oil\": \n",
    "               {\"gamma_gas\": input_data_1[\"fluid\"][\"gamma_gas\"], \n",
    "                \"gamma_wat\": input_data_1[\"fluid\"][\"gamma_water\"], \n",
    "                \"gamma_oil\": input_data_1[\"fluid\"][\"gamma_oil\"],\n",
    "                \"wct\": input_data_1[\"fluid\"][\"wct\"], \n",
    "                \"phase_ratio\": {\"type\": \"GOR\", \"value\": input_data_1[\"fluid\"][\"rp\"]}}}}\n",
    "\n",
    "pipe_data = {\"casing\": {\"bottom_depth\": input_data_1[\"reservoir\"][\"md_vdp\"],\n",
    "                        \"d\": input_data_1[\"pipe\"][\"casing\"][\"d\"],\n",
    "                        \"roughness\": input_data_1[\"pipe\"][\"casing\"][\"roughness\"]},\n",
    "             \"tubing\": {\"bottom_depth\": input_data_1[\"pipe\"][\"tubing\"][\"md\"],\n",
    "                        \"d\": input_data_1[\"pipe\"][\"tubing\"][\"d\"],\n",
    "                        \"roughness\": input_data_1[\"pipe\"][\"tubing\"][\"roughness\"]}}\n",
    "well_trajectory_data = {\"inclinometry\": df}\n",
    "equipment_data = {\"gl_system\": {\n",
    "                  \"valve1\": {\"h_mes\": input_data_2[\"md_valve\"], \"d\": 0.006,\n",
    "                              \"p_valve\": uc.convert_pressure(3, \"atm\", \"Pa\"),\n",
    "                             \"valve_type\": \"ЦКсОК\"}\n",
    "                                              }\n",
    "                  }\n",
    "ambient_temperature_data = {\"MD\": [0, input_data_1[\"reservoir\"][\"md_vdp\"]],\n",
    "                            \"T\": [input_data_1[\"temperature\"][\"t_res\"] + 273.15 - input_data_1[\"temperature\"][\"temp_grad\"]/ 100 * input_data_1[\"inclinometry\"][\"tvd\"][-1],\n",
    "                                  input_data_1[\"temperature\"][\"t_res\"] + 273.15]}\n",
    "\n",
    "# Инициализация объекта скважины\n",
    "well = GasLiftWell(fluid_data, pipe_data, well_trajectory_data,\n",
    "                   ambient_temperature_data, equipment_data)\n",
    "\n",
    "\n",
    "def _min_func(q_liq, p_res, pi, p_wh, wct, q_inj):\n",
    "    # Расчёт забойного от пластового\n",
    "    p_wf_res = p_res - q_liq / pi\n",
    "    \n",
    "    # Расчет забойного от буферного\n",
    "    p_wf_well = well.calc_pwf_pfl(p_wh * 101325,\n",
    "                             q_liq / 86400,\n",
    "                             wct, q_gas_inj=q_inj/86400)\n",
    "    return abs(p_wf_res - p_wf_well / 101325)\n",
    "from scipy.optimize import minimize_scalar\n",
    "\n",
    "\n",
    "# Создадим массив закачек\n",
    "# Чтобы быстрее проверять - возьмем ответ и посчитаем в его окрестности\n",
    "min_val = max(0, output_data[\"t2\"][\"q_inj\"] - 10000)\n",
    "max_val = output_data[\"t2\"][\"q_inj\"] + 10000\n",
    "\n",
    "q_inj_array = np.linspace(min_val, max_val, 20)\n",
    "q_liq_array = []\n",
    "\n",
    "for q_inj in q_inj_array:\n",
    "    q_liq = minimize_scalar(_min_func,\n",
    "                        bounds=(1, input_data_1[\"reservoir\"][\"p_res\"] * input_data_1[\"reservoir\"][\"pi\"]),\n",
    "                        args=(\n",
    "                            input_data_1[\"reservoir\"][\"p_res\"],\n",
    "                            input_data_1[\"reservoir\"][\"pi\"],\n",
    "                            input_data_1[\"regime\"][\"p_wh\"],\n",
    "                            input_data_1[\"fluid\"][\"wct\"],\n",
    "                            q_inj\n",
    "                                                         ),\n",
    "                       method=\"bounded\")\n",
    "    if q_liq.fun > 100000:\n",
    "        q_liq_array.append(0)\n",
    "        continue\n",
    "        \n",
    "    q_liq_array.append(q_liq.x)"
   ]
  },
  {
   "cell_type": "code",
   "execution_count": 92,
   "id": "3eb3a8b3",
   "metadata": {},
   "outputs": [
    {
     "data": {
      "text/plain": [
       "array([75000.        , 76052.63157895, 77105.26315789, 78157.89473684,\n",
       "       79210.52631579, 80263.15789474, 81315.78947368, 82368.42105263,\n",
       "       83421.05263158, 84473.68421053, 85526.31578947, 86578.94736842,\n",
       "       87631.57894737, 88684.21052632, 89736.84210526, 90789.47368421,\n",
       "       91842.10526316, 92894.73684211, 93947.36842105, 95000.        ])"
      ]
     },
     "execution_count": 92,
     "metadata": {},
     "output_type": "execute_result"
    }
   ],
   "source": [
    "q_inj_array"
   ]
  },
  {
   "cell_type": "code",
   "execution_count": 93,
   "id": "57acd5ea",
   "metadata": {},
   "outputs": [
    {
     "data": {
      "text/plain": [
       "[66.38194892372964,\n",
       " 66.39759944900509,\n",
       " 66.41177827216481,\n",
       " 66.42452646938632,\n",
       " 66.43587256167076,\n",
       " 66.44585866169419,\n",
       " 66.45451153707312,\n",
       " 66.4618581756446,\n",
       " 66.46793830492012,\n",
       " 66.47278125659872,\n",
       " 66.47640800157313,\n",
       " 66.47885815537755,\n",
       " 66.48014778184464,\n",
       " 66.48030063141064,\n",
       " 66.47935259865342,\n",
       " 66.47732046731568,\n",
       " 66.47423433196946,\n",
       " 66.47010851677508,\n",
       " 66.46496515484733,\n",
       " 66.45883417690659]"
      ]
     },
     "execution_count": 93,
     "metadata": {},
     "output_type": "execute_result"
    }
   ],
   "source": [
    "q_liq_array"
   ]
  },
  {
   "cell_type": "code",
   "execution_count": 102,
   "id": "9e256a21",
   "metadata": {},
   "outputs": [
    {
     "name": "stdout",
     "output_type": "stream",
     "text": [
      "Ответ студента неверный\n",
      "Unifloc:  66.48030063141064 88684.21052631579\n",
      "Студент:  66.6411531060521 85000\n"
     ]
    }
   ],
   "source": [
    "# Сравним ответ на 1 задание\n",
    "import pytest\n",
    "\n",
    "# Допустимый процент ошибки\n",
    "rtol = 0.02\n",
    "\n",
    "try:\n",
    "    assert max(q_liq_array) == pytest.approx(output_data[\"t2\"][\"q_liq\"], rtol)\n",
    "    assert q_inj_array[q_liq_array.index(max(q_liq_array))] == pytest.approx(output_data[\"t2\"][\"q_inj\"], abs=3000)\n",
    "except AssertionError as e:\n",
    "    print(\"Ответ студента неверный\")\n",
    "    print(\"Unifloc: \",  max(q_liq_array), q_inj_array[q_liq_array.index(max(q_liq_array))])\n",
    "    print(\"Студент: \", output_data[\"t2\"][\"q_liq\"], output_data[\"t2\"][\"q_inj\"])\n",
    "    \n",
    "    # Если дебит сходится, а закачка немного расходится, думаю можно считать ответ правильным"
   ]
  },
  {
   "cell_type": "code",
   "execution_count": null,
   "id": "4547c4ae",
   "metadata": {},
   "outputs": [],
   "source": []
  }
 ],
 "metadata": {
  "kernelspec": {
   "display_name": "Python 3 (ipykernel)",
   "language": "python",
   "name": "python3"
  },
  "language_info": {
   "codemirror_mode": {
    "name": "ipython",
    "version": 3
   },
   "file_extension": ".py",
   "mimetype": "text/x-python",
   "name": "python",
   "nbconvert_exporter": "python",
   "pygments_lexer": "ipython3",
   "version": "3.9.7"
  }
 },
 "nbformat": 4,
 "nbformat_minor": 5
}
