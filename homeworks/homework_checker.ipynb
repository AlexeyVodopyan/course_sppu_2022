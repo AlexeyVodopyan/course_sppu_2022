{
 "cells": [
  {
   "cell_type": "markdown",
   "id": "cb544981",
   "metadata": {},
   "source": [
    "### Проверка ДЗ 1"
   ]
  },
  {
   "cell_type": "code",
   "execution_count": 90,
   "id": "8cc3b56b",
   "metadata": {},
   "outputs": [],
   "source": [
    "import json"
   ]
  },
  {
   "cell_type": "code",
   "execution_count": 91,
   "id": "5c30c7f7",
   "metadata": {},
   "outputs": [],
   "source": [
    "# Указываем номер варианта проверяемого\n",
    "variant = 16\n",
    "\n",
    "# Считываем исходные данные\n",
    "with open(f\"homework_1/input_data/{variant}.json\") as f:\n",
    "    input_data = json.load(f)"
   ]
  },
  {
   "cell_type": "code",
   "execution_count": 92,
   "id": "bb915753",
   "metadata": {},
   "outputs": [],
   "source": [
    "# Предварительно лучше перейти в ветку которая на PR, чтобы файл с ответом уже был в папке и его не скачивать отдельно\n",
    "# Как это сделать: https://codex.so/git-checkout-on-pull-request-from-fork\n",
    "\n",
    "# Путь к файлу с ответом ученика\n",
    "output_path = \"homework_1/muravtsev/output.json\"\n",
    "\n",
    "# Считываем выходные данные\n",
    "with open(output_path) as f:\n",
    "    output_data = json.load(f)"
   ]
  },
  {
   "cell_type": "code",
   "execution_count": 93,
   "id": "707f5545",
   "metadata": {},
   "outputs": [
    {
     "data": {
      "text/plain": [
       "{'gamma_water': 1.0531826688400516,\n",
       " 'md_vdp': 2795.4461926851586,\n",
       " 'd_tub': 0.6292958170855484,\n",
       " 'angle': 48.26556535739659,\n",
       " 'roughness': 0.00023828101188969189,\n",
       " 'p_wh': 151.89057740712013,\n",
       " 't_wh': 26.056301710698456,\n",
       " 'temp_grad': 2.211303276181458}"
      ]
     },
     "execution_count": 93,
     "metadata": {},
     "output_type": "execute_result"
    }
   ],
   "source": [
    "input_data"
   ]
  },
  {
   "cell_type": "code",
   "execution_count": 94,
   "id": "2778af67",
   "metadata": {},
   "outputs": [],
   "source": [
    "from math import sin, pi"
   ]
  },
  {
   "cell_type": "code",
   "execution_count": 95,
   "id": "77525e88",
   "metadata": {},
   "outputs": [
    {
     "data": {
      "text/plain": [
       "2086.0688620165038"
      ]
     },
     "execution_count": 95,
     "metadata": {},
     "output_type": "execute_result"
    }
   ],
   "source": [
    "input_data[\"md_vdp\"]*sin(input_data[\"angle\"]*pi/180)"
   ]
  },
  {
   "cell_type": "code",
   "execution_count": 96,
   "id": "c7f6ab67",
   "metadata": {},
   "outputs": [],
   "source": [
    "# Получаем эталонный ответ с помощью uniflocpy\n",
    "import pandas as pd\n",
    "import unifloc.tools.units_converter as uc\n",
    "import unifloc.common.trajectory as traj\n",
    "import unifloc.common.ambient_temperature_distribution as amb\n",
    "import unifloc.pipe.pipeline as pipel\n",
    "import unifloc.pvt.fluid_flow as fl\n",
    "\n",
    "# Инициализация исходных данных класса Pipeline\n",
    "trajectory = traj.Trajectory(pd.DataFrame(columns=[\"MD\", \"TVD\"],\n",
    "                                     data=[[0, 0],\n",
    "                                           [input_data[\"md_vdp\"], input_data[\"md_vdp\"]*sin(input_data[\"angle\"]*pi/180)]]))\n",
    "\n",
    "ambient_temperature_data = {\"MD\": [0, input_data[\"md_vdp\"]], \"T\": [input_data[\"t_wh\"]+273.15, \n",
    "                                                                   input_data[\"t_wh\"]+273.15 + 2.71 / 100 * input_data[\"md_vdp\"]*sin(input_data[\"angle\"]*pi/180)]}\n",
    "\n",
    "amb_temp = amb.AmbientTemperatureDistribution(ambient_temperature_data)\n",
    "\n",
    "fluid_data = {\n",
    "    \"q_fluid\": uc.convert_rate(100, \"m3/day\", \"m3/s\"),\n",
    "    \"pvt_model_data\": {\n",
    "        \"black_oil\": {\n",
    "            \"gamma_gas\": 0.7, \"gamma_wat\": input_data[\"gamma_water\"], \"gamma_oil\": 0.8,\n",
    "            \"wct\": 1, \"phase_ratio\": {\"type\": \"GOR\", \"value\": 401}}}}\n",
    "\n",
    "fluid = fl.FluidFlow(**fluid_data)\n",
    "\n",
    "d = input_data[\"d_tub\"] / 10\n",
    "top_depth = 0\n",
    "bottom_depth = input_data[\"md_vdp\"]\n",
    "roughness = input_data[\"roughness\"]\n",
    "p_wh = input_data[\"p_wh\"] * 101325  # Па\n",
    "flow_direction = -1\n",
    "# Инициализация объекта pvt-модели\n",
    "pipe = pipel.Pipeline(top_depth, bottom_depth, d, roughness,\n",
    "                      trajectory, fluid, amb_temp)\n",
    "\n",
    "# Расчёт VLP\n",
    "q_liq_array = output_data[\"q_liq\"]\n",
    "p_wf_array = []\n",
    "for q_liq in q_liq_array:\n",
    "    p_wf, *_ = pipe.calc_pt(\"top\", p_wh, flow_direction, q_liq/86400, 1)\n",
    "    p_wf_array.append(p_wf/101325)"
   ]
  },
  {
   "cell_type": "code",
   "execution_count": 98,
   "id": "9e2838a2",
   "metadata": {},
   "outputs": [],
   "source": [
    "# Сравним 2 массива\n",
    "import numpy.testing\n",
    "\n",
    "# Допустимый процент ошибки\n",
    "rtol = 0.02\n",
    "try:\n",
    "    numpy.testing.assert_allclose(p_wf_array, output_data[\"p_wf\"], rtol=rtol)\n",
    "except AssertionError as e:\n",
    "    \n",
    "    print(\"Ответ ученика неверный\")\n",
    "    \n",
    "    print(e)"
   ]
  },
  {
   "cell_type": "code",
   "execution_count": null,
   "id": "d6576a90",
   "metadata": {},
   "outputs": [],
   "source": []
  },
  {
   "cell_type": "code",
   "execution_count": null,
   "id": "ad02b374",
   "metadata": {},
   "outputs": [],
   "source": []
  }
 ],
 "metadata": {
  "kernelspec": {
   "display_name": "Python 3 (ipykernel)",
   "language": "python",
   "name": "python3"
  },
  "language_info": {
   "codemirror_mode": {
    "name": "ipython",
    "version": 3
   },
   "file_extension": ".py",
   "mimetype": "text/x-python",
   "name": "python",
   "nbconvert_exporter": "python",
   "pygments_lexer": "ipython3",
   "version": "3.9.7"
  }
 },
 "nbformat": 4,
 "nbformat_minor": 5
}
